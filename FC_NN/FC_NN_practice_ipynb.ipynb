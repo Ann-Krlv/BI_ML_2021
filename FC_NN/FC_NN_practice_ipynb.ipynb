{
  "nbformat": 4,
  "nbformat_minor": 0,
  "metadata": {
    "colab": {
      "name": "Копия блокнота \"FC_NN_practice.ipynb\"",
      "provenance": [],
      "collapsed_sections": [],
      "include_colab_link": true
    },
    "kernelspec": {
      "name": "python3",
      "display_name": "Python 3"
    },
    "language_info": {
      "name": "python"
    }
  },
  "cells": [
    {
      "cell_type": "markdown",
      "metadata": {
        "id": "view-in-github",
        "colab_type": "text"
      },
      "source": [
        "<a href=\"https://colab.research.google.com/github/Ann-Krlv/BI_ML_2021/blob/HW7-8_fc_nn/FC_NN/FC_NN_practice_ipynb.ipynb\" target=\"_parent\"><img src=\"https://colab.research.google.com/assets/colab-badge.svg\" alt=\"Open In Colab\"/></a>"
      ]
    },
    {
      "cell_type": "markdown",
      "source": [
        "Всем привет! Сегодня вы впервые попробуете написать свою собственную нейронную сеть и попробовать ее обучить. Мы будем работать с картинками, но пока что не совсем тем способом, которым лучше всего это делать, но должно получиться неплохо.\n",
        "\n",
        "Будем работать с [датасетом](https://github.com/rois-codh/kmnist) `Kuzushiji-MNIST` (`KMNIST`). Это рукописные буквы, изображения имеют размер (28, 28, 1) и разделены на 10 классов, по ссылке можно прочитать подробнее."
      ],
      "metadata": {
        "id": "-pSGPQS8Btmc"
      }
    },
    {
      "cell_type": "code",
      "source": [
        "import numpy as np\n",
        "import torch\n",
        "import matplotlib.pyplot as plt\n",
        "from IPython.display import clear_output"
      ],
      "metadata": {
        "id": "75HVAP_RFU7r"
      },
      "execution_count": null,
      "outputs": []
    },
    {
      "cell_type": "markdown",
      "source": [
        "## Загрузка данных"
      ],
      "metadata": {
        "id": "46iQ8ixtEruP"
      }
    },
    {
      "cell_type": "markdown",
      "source": [
        "Сейчас мы будем использовать встроенные данные, но в реальности приходится писать свой класс для датасета (Dataset), у которого реализовывать несколько обязательных методов (напр, `__getitem__`), но это обсудим уже потом."
      ],
      "metadata": {
        "id": "R6h1jVreJlV-"
      }
    },
    {
      "cell_type": "code",
      "execution_count": null,
      "metadata": {
        "id": "s9L9Z02o_1bK"
      },
      "outputs": [],
      "source": [
        "import torchvision\n",
        "from torchvision.datasets import KMNIST\n",
        "\n",
        "\n",
        "# Превращает картинки в тензоры\n",
        "transform = torchvision.transforms.Compose(\n",
        "    [torchvision.transforms.ToTensor()])\n",
        "\n",
        "# Загрузим данные (в переменных лежат объекты типа `Dataset`)\n",
        "# В аргумент `transform` мы передаем необходимые трансформации (ToTensor)\n",
        "trainset = KMNIST(root=\"./KMNIST\", train=True, download=True, transform=transform)\n",
        "testset = KMNIST(root=\"./KMNIST\", train=False, download=True, transform=transform)\n",
        "\n",
        "clear_output()"
      ]
    },
    {
      "cell_type": "markdown",
      "source": [
        "Определим даталоадеры, они нужны, чтобы реализовывать стохастический градиентный спуск (то есть мы не хотим считывать в оперативную память все картинки сразу, а делать это батчами)."
      ],
      "metadata": {
        "id": "V83E2vDrO9CC"
      }
    },
    {
      "cell_type": "code",
      "source": [
        "from torch.utils.data import DataLoader\n",
        "\n",
        "\n",
        "# Можно оставить таким\n",
        "batch_size = 256\n",
        "\n",
        "trainloader = DataLoader(trainset, batch_size=batch_size, shuffle=True, num_workers=2)\n",
        "testloader = DataLoader(testset, batch_size=batch_size, shuffle=False, num_workers=2)"
      ],
      "metadata": {
        "id": "oqC8XO8pO8Px"
      },
      "execution_count": null,
      "outputs": []
    },
    {
      "cell_type": "markdown",
      "source": [
        "Подумайте, как может влиять на скорость обучения параметр `batch_size`, почему вы так считаете?\n",
        "\n",
        "**Ответ:**\n",
        "\n",
        "По идее, чем больше размер батча, тем быстрее происходит обучение. Т.е., наверное, было бы круто иметь бесконечные ресурсы и вообще не делить данные на батчи, а так приходится брать какой-то адекватно большой размер"
      ],
      "metadata": {
        "id": "-Ntp5sLoPyGx"
      }
    },
    {
      "cell_type": "markdown",
      "source": [
        "Посмотрим на какую-нибудь картинку:"
      ],
      "metadata": {
        "id": "t2vmM4KaHvrs"
      }
    },
    {
      "cell_type": "code",
      "source": [
        "plt.imshow(trainset[0][0].view(28, 28).numpy(), cmap=\"gray\")\n",
        "plt.axis(\"off\")\n",
        "plt.title(f\"Class is {trainset[0][1]}\", fontsize=16);"
      ],
      "metadata": {
        "colab": {
          "base_uri": "https://localhost:8080/",
          "height": 266
        },
        "id": "N-b-kFCYAoOP",
        "outputId": "f4cdcb85-3654-443c-e45f-afff94223c6e"
      },
      "execution_count": null,
      "outputs": [
        {
          "output_type": "display_data",
          "data": {
            "text/plain": [
              "<Figure size 432x288 with 1 Axes>"
            ],
            "image/png": "[encoded data removed]"
          },
          "metadata": {
            "needs_background": "light"
          }
        }
      ]
    },
    {
      "cell_type": "markdown",
      "source": [
        "### Задание 1. Смотрим на картинки\n",
        "\n",
        "**2** балла\n",
        "\n",
        "Нарисуйте на одном графике изображения всех 10 классов:"
      ],
      "metadata": {
        "id": "8_MSY231Hzz9"
      }
    },
    {
      "cell_type": "markdown",
      "source": [
        "⣿⣿⣿⣿⣿⣿⠿⢋⣥⣴⣶⣶⣶⣬⣙⠻⠟⣋⣭⣭⣭⣭⡙⠻⣿⣿⣿⣿⣿<br>\n",
        "⣿⣿⣿⣿⡿⢋⣴⣿⣿⠿⢟⣛⣛⣛⠿⢷⡹⣿⣿⣿⣿⣿⣿⣆⠹⣿⣿⣿⣿<br>\n",
        "⣿⣿⣿⡿⢁⣾⣿⣿⣴⣿⣿⣿⣿⠿⠿⠷⠥⠱⣶⣶⣶⣶⡶⠮⠤⣌⡙⢿⣿<br>\n",
        "⣿⡿⢛⡁⣾⣿⣿⣿⡿⢟⡫⢕⣪⡭⠥⢭⣭⣉⡂⣉⡒⣤⡭⡉⠩⣥⣰⠂⠹<br>\n",
        "⡟⢠⣿⣱⣿⣿⣿⣏⣛⢲⣾⣿⠃⠄⠐⠈⣿⣿⣿⣿⣿⣿⠄⠁⠃⢸⣿⣿⡧<br>\n",
        "⢠⣿⣿⣿⣿⣿⣿⣿⣿⣇⣊⠙⠳⠤⠤⠾⣟⠛⠍⣹⣛⣛⣢⣀⣠⣛⡯⢉⣰<br>\n",
        "⣿⣿⣿⣿⣿⣿⣿⣿⣿⣿⣿⣿⣷⡶⠶⢒⣠⣼⣿⣿⣛⠻⠛⢛⣛⠉⣴⣿⣿<br>\n",
        "⣿⣿⣿⣿⣿⣿⣿⡿⢛⡛⢿⣿⣿⣶⣿⣿⣿⣿⣿⣿⣿⣿⣿⣿⣿⣷⡈⢿⣿<br>\n",
        "⣿⣿⣿⣿⣿⣿⣿⠸⣿⡻⢷⣍⣛⠻⠿⠿⣿⣿⣿⣿⣿⣿⣿⣿⣿⠿⢇⡘⣿<br>\n",
        "⣿⣿⣿⣿⣿⣿⣿⣷⣝⠻⠶⣬⣍⣛⣛⠓⠶⠶⠶⠤⠬⠭⠤⠶⠶⠞⠛⣡⣿<br>\n",
        "⢿⣿⣿⣿⣿⣿⣿⣿⣿⣿⣷⣶⣬⣭⣍⣙⣛⣛⣛⠛⠛⠛⠿⠿⠿⠛⣠⣿⣿<br>\n",
        "⣦⣈⠉⢛⠻⠿⠿⢿⣿⣿⣿⣿⣿⣿⣿⣿⣿⣿⣿⡿⠿⠛⣁⣴⣾⣿⣿⣿⣿<br>\n",
        "⣿⣿⣿⣶⣮⣭⣁⣒⣒⣒⠂⠠⠬⠭⠭⠭⢀⣀⣠⣄⡘⠿⣿⣿⣿⣿⣿⣿⣿<br>\n",
        "⣿⣿⣿⣿⣿⣿⣿⣿⣿⣿⣿⣿⣿⣿⣿⣿⣿⣿⣿⣿⣿⣦⡈⢿⣿⣿⣿⣿⣿<br>\n"
      ],
      "metadata": {
        "id": "j0tNdHM5JS6l"
      }
    },
    {
      "cell_type": "code",
      "source": [
        "plt.rcParams[\"figure.figsize\"] = 24, 13\n",
        "for i in range(0, 10):\n",
        "    plt.subplot(1, 10, i+1)\n",
        "    for pct in trainset:\n",
        "      if pct[1] == i:\n",
        "        pixels = pct[0].view(28, 28).numpy()\n",
        "        plt.imshow(pixels, cmap='gray')\n",
        "        plt.title(pct[1])\n",
        "        plt.axis(\"off\")\n",
        "        break\n",
        "plt.rcParams[\"figure.figsize\"] = 6.4, 4.8"
      ],
      "metadata": {
        "colab": {
          "base_uri": "https://localhost:8080/",
          "height": 139
        },
        "id": "uA0vkokzrWHR",
        "outputId": "4b7f7e21-0da5-4c07-f234-7da1b3700947"
      },
      "execution_count": null,
      "outputs": [
        {
          "output_type": "display_data",
          "data": {
            "text/plain": [
              "<Figure size 1728x936 with 10 Axes>"
            ],
            "image/png": "[encoded data removed]"
          },
          "metadata": {
            "needs_background": "light"
          }
        }
      ]
    },
    {
      "cell_type": "markdown",
      "source": [
        "### Задание 2. Строим свой первый MLP\n",
        "\n",
        "**4** балла\n",
        "\n",
        "MLP (multilayer perceptron) или нейронная сеть из полносвязных (линейных) слоев, это мы уже знаем.\n",
        "\n",
        "Опишите структуру сети: 3 полносвязных слоя + функции активации на ваш выбор. **Подумайте** про активацию после последнего слоя!\n",
        "\n",
        "Сеть на выходе 1 слоя должна иметь 256 признаков, на выходе из 2 128 признаков, на выходе из последнего столько, сколько у вас классов.\n",
        " \n",
        "https://pytorch.org/docs/stable/nn.html?highlight=activation#non-linear-activations-weighted-sum-nonlinearity"
      ],
      "metadata": {
        "id": "dLCfnFW-JtGx"
      }
    },
    {
      "cell_type": "code",
      "source": [
        "import torch.nn as nn\n",
        "\n",
        "class FCNet(nn.Module):\n",
        "    def __init__(self):\n",
        "        super().__init__() #  это надо помнить!\n",
        "        ## YOUR CODE HERE\n",
        "        self.fc1 = nn.Linear(in_features=28*28, out_features=256)\n",
        "        self.fc2 = nn.Linear(in_features=256, out_features=128)\n",
        "        self.fc3 = nn.Linear(in_features=128, out_features=10)\n",
        "        self.act = nn.ReLU()\n",
        "\n",
        "    def forward(self, x):  # Forward вызывается внутри метода __call__ родительского класса\n",
        "        ## x -> тензор размерности (BATCH_SIZE, N_CHANNELS, WIDTH, HEIGHT)\n",
        "        ## надо подумать над тем, что у нас полносвязные слои принимают векторы\n",
        "\n",
        "        ## YOUR CODE HERE\n",
        "        x = x.view(-1, 28*28)\n",
        "        x = self.fc1(x)\n",
        "        x = self.act(x)\n",
        "        x = self.fc2(x)\n",
        "        x = self.act(x)\n",
        "        logits = self.fc3(x)\n",
        "        # после последнего слоя активация не нужна, т.к. дальше CrossEntropyLoss захочет raw logits\n",
        "\n",
        "        return logits"
      ],
      "metadata": {
        "id": "dhYBvQIXJdSz"
      },
      "execution_count": null,
      "outputs": []
    },
    {
      "cell_type": "markdown",
      "source": [
        "Сколько обучаемых параметров у вашей модели (весов и смещений)?\n",
        "\n",
        "**Ответ:**  235146"
      ],
      "metadata": {
        "id": "uI0R77EQNKef"
      }
    },
    {
      "cell_type": "code",
      "source": [
        "net = FCNet()\n",
        "ans = 0\n",
        "for param in net.parameters():\n",
        "    ans += len(param.view(-1))\n",
        "ans"
      ],
      "metadata": {
        "id": "MvGiuoykrzzJ",
        "colab": {
          "base_uri": "https://localhost:8080/"
        },
        "outputId": "b33b8c7d-f1eb-450a-eff6-25c17572146d"
      },
      "execution_count": null,
      "outputs": [
        {
          "output_type": "execute_result",
          "data": {
            "text/plain": [
              "235146"
            ]
          },
          "metadata": {},
          "execution_count": 76
        }
      ]
    },
    {
      "cell_type": "markdown",
      "source": [
        "### Задание 3. Напишите код для обучения модели\n",
        "\n",
        "**5** баллов\n",
        "\n",
        "Можно (и нужно) подглядывать в код семинара по пайторчу. Вам нужно создать модель, определить функцию потерь и оптимизатор (начнем с `SGD`). Дальше нужно обучать модель, при помощи тренировочного `Dataloader'a` и считать лосс на тренировочном и тестовом `Dataloader'ах`."
      ],
      "metadata": {
        "id": "iwGllji2M4lp"
      }
    },
    {
      "cell_type": "markdown",
      "source": [
        "Напишем функцию для рассчета `accuracy`:"
      ],
      "metadata": {
        "id": "Grv9xcybRfCX"
      }
    },
    {
      "cell_type": "code",
      "source": [
        "def get_accuracy(model, dataloader):\n",
        "    \"\"\"\n",
        "    model - обученная нейронная сеть\n",
        "    dataloader - даталоадер, на котором вы хотите посчитать accuracy\n",
        "    \"\"\"\n",
        "    correct = 0\n",
        "    total = 0\n",
        "    with torch.no_grad(): # Тензоры внутри этого блока будут иметь requires_grad=False\n",
        "        for images, labels in dataloader:\n",
        "            outputs = model(images)\n",
        "            _, predicted = torch.max(outputs.data, 1)\n",
        "            total += labels.size(0)\n",
        "            correct += (predicted == labels).sum().item()\n",
        "    accuracy = correct / total\n",
        "    \n",
        "    return accuracy"
      ],
      "metadata": {
        "id": "9D2QPFe5JdVc"
      },
      "execution_count": null,
      "outputs": []
    },
    {
      "cell_type": "markdown",
      "source": [
        "#### Основной цикл обучения\n",
        "\n",
        "Этот код можно (и зачастую нужно) выносить в отдельную функцию, но пока что можете это не делать, все по желанию)"
      ],
      "metadata": {
        "id": "D3EmoWJyTBkE"
      }
    },
    {
      "cell_type": "code",
      "source": [
        "# Создадим объект модели\n",
        "fc_net = FCNet()\n",
        "# Определим функцию потерь\n",
        "loss_function = nn.CrossEntropyLoss()\n",
        "# Создадим оптимизатор для нашей сети\n",
        "lr = 0.001 # скорость обучения\n",
        "optimizer = torch.optim.Adam(fc_net.parameters(), lr=3e-4)"
      ],
      "metadata": {
        "id": "uIZKSOdgUi3e"
      },
      "execution_count": null,
      "outputs": []
    },
    {
      "cell_type": "markdown",
      "source": [
        "Напишите цикл обучения. Для начала хватит 10 эпох. Какое значение `accuracy` на тестовой выборке удалось получить?"
      ],
      "metadata": {
        "id": "uKYzXFqoX_fd"
      }
    },
    {
      "cell_type": "code",
      "source": [
        "n_epochs = 10\n",
        "\n",
        "## YOUR CODE HERE\n",
        "\n",
        "for epoch in range(n_epochs):\n",
        "    epoch_loss = 0\n",
        "    for images, labels in trainloader: \n",
        "        optimizer.zero_grad() \n",
        "        outputs = fc_net(images) \n",
        "        loss = loss_function(outputs, labels)\n",
        "        loss.backward()\n",
        "        optimizer.step()\n",
        "        \n",
        "        epoch_loss += loss.item()\n",
        "\n",
        "    print(f\"Epoch={epoch+1} loss={epoch_loss/len(trainloader):.4f}\")"
      ],
      "metadata": {
        "id": "Ma2bshC6MxI6",
        "colab": {
          "base_uri": "https://localhost:8080/"
        },
        "outputId": "6ad048c4-3336-4372-b988-c3f8dd07dc7c"
      },
      "execution_count": null,
      "outputs": [
        {
          "output_type": "stream",
          "name": "stdout",
          "text": [
            "Epoch=1 loss=0.9181\n",
            "Epoch=2 loss=0.4394\n",
            "Epoch=3 loss=0.3460\n",
            "Epoch=4 loss=0.2934\n",
            "Epoch=5 loss=0.2525\n",
            "Epoch=6 loss=0.2210\n",
            "Epoch=7 loss=0.1921\n",
            "Epoch=8 loss=0.1697\n",
            "Epoch=9 loss=0.1497\n",
            "Epoch=10 loss=0.1317\n"
          ]
        }
      ]
    },
    {
      "cell_type": "code",
      "source": [
        "get_accuracy(fc_net, testloader)"
      ],
      "metadata": {
        "id": "2cB5LRbrS3BN",
        "colab": {
          "base_uri": "https://localhost:8080/"
        },
        "outputId": "53b9befc-3f36-4de2-f989-5b7ae8e85e18"
      },
      "execution_count": null,
      "outputs": [
        {
          "output_type": "execute_result",
          "data": {
            "text/plain": [
              "0.875"
            ]
          },
          "metadata": {},
          "execution_count": 25
        }
      ]
    },
    {
      "cell_type": "markdown",
      "source": [
        "### Задание 4. Изучение влияния нормализации\n",
        "\n",
        "**3** балла\n",
        "\n",
        "Вы могли заметить, что мы забыли провести нормализацию наших данных, а для нейронных сетей это может быть очень критично.\n",
        "\n",
        "Нормализуйте данные.\n",
        "\n",
        "* Подсчитайте среднее значение и стандартное отклонение интенсивности пикселей для всех тренировочных данных\n",
        "* Нормализуйте данные с использованием этих параметров (используйте трансформацию `Normalize`)\n",
        "\n",
        "\n",
        "Оцените влияние нормировки данных."
      ],
      "metadata": {
        "id": "4HTJzBM8Yk1R"
      }
    },
    {
      "cell_type": "code",
      "source": [
        "mean = torch.mean(trainset.data.to(torch.float32), dim=(0, 1, 2)) / 255 ## calculate mean\n",
        "std = torch.std(trainset.data.to(torch.float32), dim=(0, 1, 2)) / 255 ## calculate std\n",
        "print(mean, std)\n",
        "\n",
        "transform_with_norm = torchvision.transforms.Compose([\n",
        "                torchvision.transforms.ToTensor(),\n",
        "                torchvision.transforms.Normalize(mean, std)\n",
        "            ])\n",
        "\n",
        "trainset.transform = transform_with_norm \n",
        "testset.transform = transform_with_norm"
      ],
      "metadata": {
        "id": "FHlDaYWGR6YA",
        "colab": {
          "base_uri": "https://localhost:8080/"
        },
        "outputId": "df8b674a-ad57-4bf7-d6bf-5fe0610dcacc"
      },
      "execution_count": null,
      "outputs": [
        {
          "output_type": "stream",
          "name": "stdout",
          "text": [
            "tensor(0.1918) tensor(0.3483)\n"
          ]
        }
      ]
    },
    {
      "cell_type": "code",
      "source": [
        "fc_net = FCNet()\n",
        "loss_function = nn.CrossEntropyLoss()\n",
        "lr = 0.001\n",
        "optimizer = torch.optim.Adam(fc_net.parameters(), lr=3e-4)"
      ],
      "metadata": {
        "id": "Qj93J3X_R6aa"
      },
      "execution_count": null,
      "outputs": []
    },
    {
      "cell_type": "code",
      "source": [
        "n_epochs = 10\n",
        "loss_history = []\n",
        "\n",
        "## YOUR CODE HERE\n",
        "for epoch in range(n_epochs):\n",
        "    epoch_loss = 0\n",
        "    for images, labels in trainloader: \n",
        "        optimizer.zero_grad() \n",
        "        outputs = fc_net(images) \n",
        "        loss = loss_function(outputs, labels)\n",
        "        loss.backward()\n",
        "        optimizer.step()\n",
        "        \n",
        "        epoch_loss += loss.item()\n",
        "\n",
        "    print(f\"Epoch={epoch+1} loss={epoch_loss/len(trainloader):.4f}\")"
      ],
      "metadata": {
        "id": "VWZtYBCvAoWQ",
        "colab": {
          "base_uri": "https://localhost:8080/"
        },
        "outputId": "c4ea362a-bbb5-40ad-eb84-0531e93260ba"
      },
      "execution_count": null,
      "outputs": [
        {
          "output_type": "stream",
          "name": "stdout",
          "text": [
            "Epoch=1 loss=0.6907\n",
            "Epoch=2 loss=0.3045\n",
            "Epoch=3 loss=0.2230\n",
            "Epoch=4 loss=0.1735\n",
            "Epoch=5 loss=0.1384\n",
            "Epoch=6 loss=0.1120\n",
            "Epoch=7 loss=0.0921\n",
            "Epoch=8 loss=0.0754\n",
            "Epoch=9 loss=0.0607\n",
            "Epoch=10 loss=0.0495\n"
          ]
        }
      ]
    },
    {
      "cell_type": "code",
      "source": [
        "get_accuracy(fc_net, testloader)"
      ],
      "metadata": {
        "id": "Gfbv9OIAAoYT",
        "colab": {
          "base_uri": "https://localhost:8080/"
        },
        "outputId": "da984051-6800-4d6a-aa63-054ce68c9549"
      },
      "execution_count": null,
      "outputs": [
        {
          "output_type": "execute_result",
          "data": {
            "text/plain": [
              "0.8957"
            ]
          },
          "metadata": {},
          "execution_count": 50
        }
      ]
    },
    {
      "cell_type": "markdown",
      "source": [
        "Как изменилась `accuracy` после нормализации?"
      ],
      "metadata": {
        "id": "RcIJvhWkcjlh"
      }
    },
    {
      "cell_type": "markdown",
      "source": [
        "*Немного выросло*"
      ],
      "metadata": {
        "id": "x28E06o9QWKH"
      }
    },
    {
      "cell_type": "code",
      "source": [
        ""
      ],
      "metadata": {
        "id": "G1LHKF2PsZ4U"
      },
      "execution_count": null,
      "outputs": []
    },
    {
      "cell_type": "markdown",
      "source": [
        "### Задание 5. Изучение влияния функции активации\n",
        "\n",
        "**3** балла\n",
        "\n",
        "Исследуйте влияние функций активации на скорость обучения и точность предсказаний модели.\n",
        "\n",
        "Используйте три функции:\n",
        "\n",
        "* [Sigmoid](https://pytorch.org/docs/stable/nn.functional.html#sigmoid)\n",
        "* [GELU](https://pytorch.org/docs/stable/nn.functional.html#gelu)\n",
        "* [Tanh](https://pytorch.org/docs/stable/generated/torch.nn.Tanh.html#torch.nn.Tanh)"
      ],
      "metadata": {
        "id": "atcfzu4acxP2"
      }
    },
    {
      "cell_type": "code",
      "source": [
        "class FCNet_act(nn.Module):\n",
        "    def __init__(self, act_fun):\n",
        "        super().__init__()\n",
        "        self.fc1 = nn.Linear(in_features=28*28, out_features=256)\n",
        "        self.fc2 = nn.Linear(in_features=256, out_features=128)\n",
        "        self.fc3 = nn.Linear(in_features=128, out_features=10)\n",
        "        self.act = act_fun()\n",
        "\n",
        "    def forward(self, x):  \n",
        "        ## x -> tensor(BATCH_SIZE, N_CHANNELS, WIDTH, HEIGHT)\n",
        "\n",
        "        x = x.view(-1, 28*28)\n",
        "        x = self.fc1(x)\n",
        "        x = self.act(x)\n",
        "        x = self.fc2(x)\n",
        "        x = self.act(x)\n",
        "        logits = self.fc3(x)\n",
        "\n",
        "        return logits"
      ],
      "metadata": {
        "id": "lf-uLeeqdFaE"
      },
      "execution_count": null,
      "outputs": []
    },
    {
      "cell_type": "code",
      "source": [
        "loss_function = nn.CrossEntropyLoss()\n",
        "lr = 0.001"
      ],
      "metadata": {
        "id": "bryzADOqd7IP"
      },
      "execution_count": null,
      "outputs": []
    },
    {
      "cell_type": "code",
      "source": [
        "n_epochs = 10\n",
        "loss_history = [[], [], [], []]\n",
        "func = [nn.ReLU, nn.Sigmoid, nn.GELU, nn.Tanh]\n",
        "\n",
        "## YOUR CODE HERE\n",
        "for i in range(0, 4):\n",
        "  print(f'{func[i].__name__}')\n",
        "  fc_net_act = FCNet_act(func[i])\n",
        "  optimizer = torch.optim.Adam(fc_net_act.parameters(), lr=3e-4)\n",
        "  for epoch in range(n_epochs):\n",
        "      epoch_loss = 0\n",
        "      for images, labels in trainloader: \n",
        "          optimizer.zero_grad() \n",
        "          outputs = fc_net_act(images) \n",
        "          loss = loss_function(outputs, labels)\n",
        "          loss.backward()\n",
        "          optimizer.step()\n",
        "          \n",
        "          epoch_loss += loss.item()\n",
        "\n",
        "      loss_history[i].append(epoch_loss/len(trainloader))\n",
        "      print(f\"Epoch={epoch+1} loss={loss_history[i][epoch]:.4f}\")\n",
        "\n",
        "  print(f'accuracy with {func[i].__name__}', get_accuracy(fc_net_act, testloader))"
      ],
      "metadata": {
        "id": "GdvHSFeKa2sW",
        "colab": {
          "base_uri": "https://localhost:8080/"
        },
        "outputId": "7fe43133-0993-4e3b-8146-9dfc9fce1ea1"
      },
      "execution_count": null,
      "outputs": [
        {
          "output_type": "stream",
          "name": "stdout",
          "text": [
            "ReLU\n",
            "Epoch=1 loss=0.6826\n",
            "Epoch=2 loss=0.3056\n",
            "Epoch=3 loss=0.2241\n",
            "Epoch=4 loss=0.1736\n",
            "Epoch=5 loss=0.1389\n",
            "Epoch=6 loss=0.1124\n",
            "Epoch=7 loss=0.0921\n",
            "Epoch=8 loss=0.0765\n",
            "Epoch=9 loss=0.0625\n",
            "Epoch=10 loss=0.0510\n",
            "accuracy with ReLU 0.8986\n",
            "Sigmoid\n",
            "Epoch=1 loss=1.5554\n",
            "Epoch=2 loss=0.7517\n",
            "Epoch=3 loss=0.5461\n",
            "Epoch=4 loss=0.4480\n",
            "Epoch=5 loss=0.3784\n",
            "Epoch=6 loss=0.3243\n",
            "Epoch=7 loss=0.2804\n",
            "Epoch=8 loss=0.2445\n",
            "Epoch=9 loss=0.2145\n",
            "Epoch=10 loss=0.1898\n",
            "accuracy with Sigmoid 0.8567\n",
            "GELU\n",
            "Epoch=1 loss=0.6676\n",
            "Epoch=2 loss=0.2787\n",
            "Epoch=3 loss=0.2019\n",
            "Epoch=4 loss=0.1545\n",
            "Epoch=5 loss=0.1212\n",
            "Epoch=6 loss=0.0981\n",
            "Epoch=7 loss=0.0786\n",
            "Epoch=8 loss=0.0636\n",
            "Epoch=9 loss=0.0506\n",
            "Epoch=10 loss=0.0393\n",
            "accuracy with GELU 0.9005\n",
            "Tanh\n",
            "Epoch=1 loss=0.7683\n",
            "Epoch=2 loss=0.3788\n",
            "Epoch=3 loss=0.2553\n",
            "Epoch=4 loss=0.1827\n",
            "Epoch=5 loss=0.1364\n",
            "Epoch=6 loss=0.1022\n",
            "Epoch=7 loss=0.0763\n",
            "Epoch=8 loss=0.0572\n",
            "Epoch=9 loss=0.0419\n",
            "Epoch=10 loss=0.0309\n",
            "accuracy with Tanh 0.894\n"
          ]
        }
      ]
    },
    {
      "cell_type": "code",
      "source": [
        "plt.figure(figsize=(10,5))\n",
        "for i in range(4):\n",
        "  plt.plot([i+1 for i in range(n_epochs)], loss_history[i], label=func[i].__name__)\n",
        "plt.legend()\n",
        "plt.xlabel(\"Epochs\")\n",
        "plt.ylabel(\"Loss\")\n",
        "plt.show()"
      ],
      "metadata": {
        "colab": {
          "base_uri": "https://localhost:8080/",
          "height": 334
        },
        "id": "AyHgnJOhh2HA",
        "outputId": "a0e3374a-569c-40a1-d886-308d94b9e437"
      },
      "execution_count": null,
      "outputs": [
        {
          "output_type": "display_data",
          "data": {
            "text/plain": [
              "<Figure size 720x360 with 1 Axes>"
            ],
            "image/png": "[encoded data removed]"
          },
          "metadata": {
            "needs_background": "light"
          }
        }
      ]
    },
    {
      "cell_type": "markdown",
      "source": [
        "С использованием какой функции активации удалось досчить наибольшей `accuracy`?\n",
        "\n",
        "`GELU` \n",
        "\n",
        "хотя, если запускать нескольуо раз, можно скзать только, что худший результат даёт сигмоида (что логично)"
      ],
      "metadata": {
        "id": "aG2Oyxy2egVV"
      }
    },
    {
      "cell_type": "code",
      "source": [
        ""
      ],
      "metadata": {
        "id": "5SaqWhlkjuO3"
      },
      "execution_count": null,
      "outputs": []
    },
    {
      "cell_type": "markdown",
      "source": [
        "### Задание 6. Другие оптимизаторы\n",
        "\n",
        "**4** балла\n",
        "\n",
        "Исследуйте влияние оптимизаторов на скорость обучения и точность предсказаний модели.\n",
        "\n",
        "Попробуйте следующие:\n",
        "\n",
        "* [Adam](https://pytorch.org/docs/stable/generated/torch.optim.Adam.html#torch.optim.Adam)\n",
        "* [RMSprop](https://pytorch.org/docs/stable/generated/torch.optim.RMSprop.html#torch.optim.RMSprop)\n",
        "* [Adagrad](https://pytorch.org/docs/stable/generated/torch.optim.Adagrad.html#torch.optim.Adagrad)\n",
        "\n",
        "Вам нужно снова обучить 3 модели и сравнить их перформанс (функцию активации используйте ту, которая показала себя лучше всего)."
      ],
      "metadata": {
        "id": "20Ls3Bfsifqd"
      }
    },
    {
      "cell_type": "code",
      "source": [
        "from torch.optim import Adam, RMSprop, Adagrad\n",
        "n_epochs = 10\n",
        "loss_history = [[], [], []]\n",
        "opt_func = [Adam, RMSprop, Adagrad]\n",
        "\n",
        "## YOUR CODE HERE\n",
        "for i in range(0, 3):\n",
        "  print(opt_func[i].__name__)\n",
        "  fc_net_opt = FCNet_act(nn.GELU)\n",
        "  optimizer = opt_func[i](fc_net_opt.parameters(), lr=3e-4)\n",
        "  for epoch in range(n_epochs):\n",
        "      epoch_loss = 0\n",
        "      for images, labels in trainloader: \n",
        "          optimizer.zero_grad() \n",
        "          outputs = fc_net_opt(images) \n",
        "          loss = loss_function(outputs, labels)\n",
        "          loss.backward()\n",
        "          optimizer.step()\n",
        "          \n",
        "          epoch_loss += loss.item()\n",
        "      \n",
        "      loss_history[i].append(epoch_loss/len(trainloader))\n",
        "\n",
        "      print(f\"Epoch={epoch+1} loss={loss_history[i][epoch]:.4f}\")\n",
        "  print(f'accuracy with {opt_func[i].__name__}', get_accuracy(fc_net_opt, testloader))"
      ],
      "metadata": {
        "id": "rzL2LdA-ifJh",
        "colab": {
          "base_uri": "https://localhost:8080/"
        },
        "outputId": "58e5a31d-3d49-4327-e89a-1a596243972a"
      },
      "execution_count": null,
      "outputs": [
        {
          "output_type": "stream",
          "name": "stdout",
          "text": [
            "Adam\n",
            "Epoch=1 loss=0.6619\n",
            "Epoch=2 loss=0.2822\n",
            "Epoch=3 loss=0.2052\n",
            "Epoch=4 loss=0.1563\n",
            "Epoch=5 loss=0.1238\n",
            "Epoch=6 loss=0.0983\n",
            "Epoch=7 loss=0.0781\n",
            "Epoch=8 loss=0.0625\n",
            "Epoch=9 loss=0.0492\n",
            "Epoch=10 loss=0.0381\n",
            "accuracy with Adam 0.9004\n",
            "RMSprop\n",
            "Epoch=1 loss=0.4356\n",
            "Epoch=2 loss=0.2333\n",
            "Epoch=3 loss=0.1722\n",
            "Epoch=4 loss=0.1312\n",
            "Epoch=5 loss=0.1036\n",
            "Epoch=6 loss=0.0809\n",
            "Epoch=7 loss=0.0649\n",
            "Epoch=8 loss=0.0507\n",
            "Epoch=9 loss=0.0398\n",
            "Epoch=10 loss=0.0301\n",
            "accuracy with RMSprop 0.9064\n",
            "Adagrad\n",
            "Epoch=1 loss=1.3508\n",
            "Epoch=2 loss=0.8221\n",
            "Epoch=3 loss=0.6962\n",
            "Epoch=4 loss=0.6316\n",
            "Epoch=5 loss=0.5907\n",
            "Epoch=6 loss=0.5610\n",
            "Epoch=7 loss=0.5388\n",
            "Epoch=8 loss=0.5201\n",
            "Epoch=9 loss=0.5042\n",
            "Epoch=10 loss=0.4906\n",
            "accuracy with Adagrad 0.7219\n"
          ]
        }
      ]
    },
    {
      "cell_type": "code",
      "source": [
        "plt.figure(figsize=(10,5))\n",
        "for i in range(3):\n",
        "  plt.plot([i+1 for i in range(n_epochs)], loss_history[i], label=opt_func[i].__name__)\n",
        "plt.legend()\n",
        "plt.xlabel(\"Epochs\")\n",
        "plt.ylabel(\"Loss\")\n",
        "plt.show()"
      ],
      "metadata": {
        "colab": {
          "base_uri": "https://localhost:8080/",
          "height": 335
        },
        "id": "tVPtulbdrdD3",
        "outputId": "5b72e65d-a835-4577-ba8e-f576a4c53c5a"
      },
      "execution_count": null,
      "outputs": [
        {
          "output_type": "display_data",
          "data": {
            "text/plain": [
              "<Figure size 720x360 with 1 Axes>"
            ],
            "image/png": "[encoded data removed]"
          },
          "metadata": {
            "needs_background": "light"
          }
        }
      ]
    },
    {
      "cell_type": "markdown",
      "source": [
        "`Adam` и `RMSprop` в данных условиях доют почти идентичный результат"
      ],
      "metadata": {
        "id": "DI8M5KbvAEIR"
      }
    },
    {
      "cell_type": "markdown",
      "source": [
        "### Задание 7. Реализация ReLU\n",
        "\n",
        "**4** балла\n",
        "\n",
        "Самостоятельно реализуйте функцию активации ReLU.\n",
        "Замените в уже обученной модели функцию активации на вашу. Убедитесь что ничего не изменилась."
      ],
      "metadata": {
        "id": "eHA48PsperxS"
      }
    },
    {
      "cell_type": "code",
      "source": [
        "class CustomReLU(nn.Module):     \n",
        "    def __init__(self):\n",
        "        super().__init__()\n",
        "\n",
        "    def forward(self, x):\n",
        "        # YOUR CODE HERE\n",
        "        # если элемент x < 0, то 0, если >= 0, то x\n",
        "        x[x < 0] = 0\n",
        "\n",
        "        return x"
      ],
      "metadata": {
        "id": "63uTkUp-a2xr"
      },
      "execution_count": null,
      "outputs": []
    },
    {
      "cell_type": "code",
      "source": [
        "n = CustomReLU()\n",
        "n(torch.Tensor([[1, 2, -2, -3, 4], [-3, 5, 1, -5, 0]]))"
      ],
      "metadata": {
        "colab": {
          "base_uri": "https://localhost:8080/"
        },
        "id": "pasEqzgzszC4",
        "outputId": "5417c412-2bc9-49d2-b325-c7b8e9a96f24"
      },
      "execution_count": null,
      "outputs": [
        {
          "output_type": "execute_result",
          "data": {
            "text/plain": [
              "tensor([[1., 2., 0., 0., 4.],\n",
              "        [0., 5., 1., 0., 0.]])"
            ]
          },
          "metadata": {},
          "execution_count": 124
        }
      ]
    },
    {
      "cell_type": "markdown",
      "source": [
        "Заново обучите модель и проверьте правильность реализации `CustomReLU`."
      ],
      "metadata": {
        "id": "xsKzxa33fhbN"
      }
    },
    {
      "cell_type": "code",
      "source": [
        "n_epochs = 10\n",
        "loss_history = [[], [], [], []]\n",
        "func = [nn.ReLU, CustomReLU]\n",
        "\n",
        "## YOUR CODE HERE\n",
        "for i in range(len(func)):\n",
        "  print(f'{func[i].__name__}')\n",
        "  fc_net_act = FCNet_act(func[i])\n",
        "  optimizer = torch.optim.Adam(fc_net_act.parameters(), lr=3e-4)\n",
        "  for epoch in range(n_epochs):\n",
        "      epoch_loss = 0\n",
        "      for images, labels in trainloader: \n",
        "          optimizer.zero_grad() \n",
        "          outputs = fc_net_act(images) \n",
        "          loss = loss_function(outputs, labels)\n",
        "          loss.backward()\n",
        "          optimizer.step()\n",
        "          \n",
        "          epoch_loss += loss.item()\n",
        "\n",
        "      loss_history[i].append(epoch_loss/len(trainloader))\n",
        "      print(f\"Epoch={epoch+1} loss={loss_history[i][epoch]:.4f}\")\n",
        "\n",
        "  print(f'accuracy with {func[i].__name__}', get_accuracy(fc_net_act, testloader))"
      ],
      "metadata": {
        "id": "ePP55RBeecYh",
        "colab": {
          "base_uri": "https://localhost:8080/"
        },
        "outputId": "76eaf890-51e4-45d2-d96f-d0fb139d41ea"
      },
      "execution_count": null,
      "outputs": [
        {
          "output_type": "stream",
          "name": "stdout",
          "text": [
            "ReLU\n",
            "Epoch=1 loss=0.6868\n",
            "Epoch=2 loss=0.3069\n",
            "Epoch=3 loss=0.2260\n",
            "Epoch=4 loss=0.1749\n",
            "Epoch=5 loss=0.1392\n",
            "Epoch=6 loss=0.1124\n",
            "Epoch=7 loss=0.0925\n",
            "Epoch=8 loss=0.0759\n",
            "Epoch=9 loss=0.0613\n",
            "Epoch=10 loss=0.0496\n",
            "accuracy with ReLU 0.8985\n",
            "CustomReLU\n",
            "Epoch=1 loss=0.6855\n",
            "Epoch=2 loss=0.3017\n",
            "Epoch=3 loss=0.2218\n",
            "Epoch=4 loss=0.1731\n",
            "Epoch=5 loss=0.1392\n",
            "Epoch=6 loss=0.1115\n",
            "Epoch=7 loss=0.0905\n",
            "Epoch=8 loss=0.0755\n",
            "Epoch=9 loss=0.0605\n",
            "Epoch=10 loss=0.0492\n",
            "accuracy with CustomReLU 0.8996\n"
          ]
        }
      ]
    },
    {
      "cell_type": "markdown",
      "source": [
        "Вот, пожалуйста"
      ],
      "metadata": {
        "id": "Dx2igzEvAu-K"
      }
    }
  ]
}